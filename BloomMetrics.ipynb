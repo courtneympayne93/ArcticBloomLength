{
 "cells": [
  {
   "cell_type": "markdown",
   "id": "488373bc-ee02-43bb-820e-cd3750cc3365",
   "metadata": {},
   "source": [
    "This script is used to produce bloom start and end timing metrics for the Payne et al. paper \"End-of-century Arctic Ocean phytoplankton blooms start a month earlier due to anthropogenic climate change\".\n"
   ]
  },
  {
   "cell_type": "markdown",
   "id": "5c199e3b-7015-4802-85f6-dd5a48c4510c",
   "metadata": {},
   "source": [
    "1. Import packages."
   ]
  },
  {
   "cell_type": "code",
   "execution_count": 3,
   "id": "ca27fc87-52a7-41be-96ae-71e193e9142a",
   "metadata": {},
   "outputs": [],
   "source": [
    "import numpy as np\n",
    "import xarray as xr\n",
    "import glob\n",
    "import matplotlib.pyplot as plt\n",
    "import cmocean\n",
    "import cartopy.crs as ccrs\n",
    "import cartopy.feature as cfeature\n",
    "from scipy import stats\n",
    "import math\n",
    "import matplotlib.path as mpath"
   ]
  },
  {
   "cell_type": "markdown",
   "id": "397714bf-a73c-4baa-b0a1-2a6a9cce2d81",
   "metadata": {},
   "source": [
    "2. Read in a randomly chosen NPP file. This is used to generate latitude (lat) and longitude (lon) fields for CESM files."
   ]
  },
  {
   "cell_type": "code",
   "execution_count": 4,
   "id": "26d25f22-bf62-427f-82ee-00e66c37877e",
   "metadata": {},
   "outputs": [],
   "source": [
    "vdir = 'ocn' # 'ocn' or 'ice'\n",
    "vnam = 'photoC_diat_zint_2'#, 'photoC_diaz_zint', 'photoC_sp_zint']#,'photoC_diaz_zint','photoC_sp_zint'] # 'aice' # 'SST'\n",
    "fdir = '/glade/campaign/cgd/cesm/CESM2-LE/'+ vdir + '/proc/tseries/day_1/' + vnam + '/'\n",
    "\n",
    "fnam = 'b.e21.BSSP370cmip6.f09_g17.LE2-1301.003.pop.h.ecosys.nday1.photoC_diat_zint_2.20450102-20550101.nc'\n",
    "\n",
    "ncfile = xr.open_dataset(fdir + fnam)\n",
    "lon = ncfile.TLONG.values\n",
    "lat = ncfile.TLAT.values\n",
    "\n",
    "ok = ~np.isnan(lon)\n",
    "xp = ok.ravel().nonzero()[0]\n",
    "fp = lon[~np.isnan(lon)]\n",
    "x  = np.isnan(lon).ravel().nonzero()[0]\n",
    "lon[np.isnan(lon)] = np.interp(x, xp, fp)\n",
    "\n",
    "ok = ~np.isnan(lat)\n",
    "xp = ok.ravel().nonzero()[0]\n",
    "fp = lat[~np.isnan(lat)]\n",
    "x  = np.isnan(lat).ravel().nonzero()[0]\n",
    "lat[np.isnan(lat)] = np.interp(x, xp, fp)\n"
   ]
  },
  {
   "cell_type": "markdown",
   "id": "3b8f6e5a-0792-43b1-b9e2-2e5d44f9c426",
   "metadata": {},
   "source": [
    "3. Make the areacello_ocn array which gives the area (in m2) of each grid cell in the larger region (latitude > 50°N)."
   ]
  },
  {
   "cell_type": "code",
   "execution_count": 5,
   "id": "13973e02-fb19-44ee-b46e-9635a726dc72",
   "metadata": {},
   "outputs": [
    {
     "name": "stderr",
     "output_type": "stream",
     "text": [
      "/glade/u/apps/opt/conda/envs/npl-2024b/lib/python3.11/site-packages/xarray/conventions.py:286: SerializationWarning: variable 'areacello' has multiple fill values {1e+20, 1e+20} defined, decoding all values to NaN.\n",
      "  var = coder.decode(var, name=name)\n"
     ]
    }
   ],
   "source": [
    "# b. Open up the areacello (area for ocean grid cells) file. I'll use this to calculate sea ice areal coverage\n",
    "acdir = '/glade/collections/cmip/CMIP6/CMIP/NCAR/CESM2/historical/r1i1p1f1/Ofx/areacello/gn/files/d20190308/areacello_Ofx_CESM2_historical_r1i1p1f1_gn.nc'\n",
    "acfil = xr.open_dataset(acdir)\n",
    "areacello = acfil['areacello'].values # tarea <- ocean files\n",
    "areacello_ocn = np.full([384,320], np.nan)\n",
    "for i in np.arange(0,384):\n",
    "    for j in np.arange(0,320):\n",
    "        if np.isnan(ncfile['photoC_diat_zint_2'][180,i,j]) == False and ncfile[\"TLAT\"][i,j] > 50:\n",
    "            areacello_ocn[i,j] = areacello[i,j]\n"
   ]
  },
  {
   "cell_type": "markdown",
   "id": "d5b02b1d-2f8b-4d7c-ba75-67329d4931e9",
   "metadata": {},
   "source": [
    "4. Read in integrated C (or Chl) biomass for a particular year, and sum across all phytoplankton functional types."
   ]
  },
  {
   "cell_type": "code",
   "execution_count": 15,
   "id": "08c7562d-9c37-45bb-a8eb-550220146676",
   "metadata": {},
   "outputs": [
    {
     "name": "stdout",
     "output_type": "stream",
     "text": [
      "/glade/campaign/cgd/cesm/CESM2-LE/ocn/proc/tseries/day_1/diatC_zint_100m/b.e21.BSSP370smbb.f09_g17.LE2-1301.011.pop.h.ecosys.nday1.diatC_zint_100m.20850102-20950101.nc\n",
      "/glade/campaign/cgd/cesm/CESM2-LE/ocn/proc/tseries/day_1/diazC_zint_100m/b.e21.BSSP370smbb.f09_g17.LE2-1051.003.pop.h.ecosys.nday1.diazC_zint_100m.20850102-20950101.nc\n",
      "/glade/campaign/cgd/cesm/CESM2-LE/ocn/proc/tseries/day_1/spC_zint_100m/b.e21.BSSP370smbb.f09_g17.LE2-1281.016.pop.h.ecosys.nday1.spC_zint_100m.20850102-20950101.nc\n"
     ]
    }
   ],
   "source": [
    "# a. Select variable of interest and locate the files\n",
    "vdir = 'ocn' # 'ocn' or 'ice'\n",
    "vnam = ['diatC_zint_100m', 'diazC_zint_100m', 'spC_zint_100m']# \n",
    "dat_clim = np.full([50, 365, 384, 320], np.nan)\n",
    "for j in np.arange(0,len(vnam)):\n",
    "    fdir = '/glade/campaign/cgd/cesm/CESM2-LE/'+ vdir + '/proc/tseries/day_1/' + vnam[j] + '/'\n",
    "\n",
    "# b. Make an array of nans to store the values from all EMs\n",
    "    i = -1\n",
    "    \n",
    "# c. Loop through all the files in the directory, storing data in dat_clim\n",
    "    for file in glob.glob(fdir + \"*smbb*20950101*\"): #use suffix 0102 for every year but 2015 and 0101 for 2015.\n",
    "        i = i + 1\n",
    "        if i == 0:\n",
    "            print(file)\n",
    "\n",
    "# d. Open the netcdf and store the variable of interest as dat. Also open lon and lat.\n",
    "        ncfile = xr.open_dataset(file) \n",
    "        dat = ncfile[vnam[j]].values\n",
    "        lon, lat = ncfile.TLONG.values, ncfile.TLAT.values #if in 'ice', use 'TLON', in 'ocn', use 'TLONG'\n",
    "\n",
    "# e. Interpolate lat and lon values over holes in the arrays\n",
    "        ok = ~np.isnan(lon)\n",
    "        xp = ok.ravel().nonzero()[0]\n",
    "        fp = lon[~np.isnan(lon)]\n",
    "        x  = np.isnan(lon).ravel().nonzero()[0]\n",
    "        lon[np.isnan(lon)] = np.interp(x, xp, fp)\n",
    "\n",
    "        ok = ~np.isnan(lat)\n",
    "        xp = ok.ravel().nonzero()[0]\n",
    "        fp = lat[~np.isnan(lat)]\n",
    "        x  = np.isnan(lat).ravel().nonzero()[0]\n",
    "        lat[np.isnan(lat)] = np.interp(x, xp, fp)\n",
    "        # print('hi')\n",
    "# f. Loop through the ensemble members, assigning each to its own column.\n",
    "        if j == 0:\n",
    "            for t in range(0,365):\n",
    "                dat_clim[i,t,:,:] = dat[t+1825,:,:]#[t+1825,:,:] #Get the year that is 5 years in (e.g. 2050)\n",
    "            #dat_diat[i,:,:] = np.nansum(dat[1825:3650,:,:], axis = 0)\n",
    "        else:\n",
    "            for t in range(0,365):\n",
    "                dat_clim[i,t,:,:] = dat[t+1825,:,:] + dat_clim[i,t,:,:]#dat[t+1825,:,:] + dat_clim[i,t,:,:] #Get the year that is 5 years in (e.g. 2050)\n",
    " "
   ]
  },
  {
   "cell_type": "markdown",
   "id": "6e5bfcfb-594d-4cd8-b90e-a5aaa880e155",
   "metadata": {},
   "source": [
    "5. Convert NPP into g C m-2 rather than the weird CESM units. Subsequently, calculate bloom start(ind_max_25) and end (ind_max_25_2) timing, as well as the maximum timing (ind_max_100), based on the date when biomass rises above 25% or below 25% of the maximum for the first time. This also takes a long time."
   ]
  },
  {
   "cell_type": "code",
   "execution_count": 16,
   "id": "7e2ac4ac-99f8-48b6-97b6-58d8117ba4eb",
   "metadata": {},
   "outputs": [],
   "source": [
    "unitconv = 10.377 /1e12\n",
    "propthresh = 0.15 ##THIS IS NORMALLY 0.25 but can be 0.15\n",
    "ind_max_25 = np.zeros([384,320,50]); ind_max_100 = np.zeros([384,320,50]); ind_max_25_2 = np.zeros([384,320,50])\n",
    "for i in np.arange(0,384):\n",
    "    for j in np.arange(0,320):\n",
    "        if np.isnan(areacello_ocn[i,j]) == False and np.isnan(areacello_ocn[i,j]) == False:\n",
    "            for ens in np.arange(0,50):\n",
    "                dbiom_arc = dat_clim[ens,:,i,j] * areacello_ocn[i,j] * unitconv \n",
    "                ft1 = True; ft2 = True; ft3 = True; pp = False\n",
    "                for t in np.arange(1,366):\n",
    "                    if dbiom_arc[t-1] > propthresh * np.nanmax(dbiom_arc) and ft1 == True:\n",
    "                        ind_max_25[i,j,ens] = t\n",
    "                        ft1 = False\n",
    "                    if dbiom_arc[t-1] == np.nanmax(dbiom_arc) and ft2 == True:\n",
    "                        ind_max_100[i,j,ens] = t\n",
    "                        pp = True; ft2 = False\n",
    "                    if dbiom_arc[t-1] <= (propthresh * np.nanmax(dbiom_arc)) and pp == True and ft3 == True:\n",
    "                        ind_max_25_2[i,j,ens] = t\n",
    "                        ft3 = False\n",
    "                        break"
   ]
  },
  {
   "cell_type": "markdown",
   "id": "46860eb3-5366-4701-aee6-07e58e9e1e48",
   "metadata": {},
   "source": [
    "6. Write out bloom start and end dates for the year studied."
   ]
  },
  {
   "cell_type": "code",
   "execution_count": 17,
   "id": "de23e606-730c-4e1c-bf42-cde47c18a1aa",
   "metadata": {},
   "outputs": [],
   "source": [
    "dir = open(\"/glade/u/home/cpayne/Projects/BloomLength/AnnualGC/2100_max_15.txt\", \"w\")\n",
    "for row in ind_max_25:\n",
    "    np.savetxt(dir, row)\n",
    "dir.close()\n",
    "dir = open(\"/glade/u/home/cpayne/Projects/BloomLength/AnnualGC/2100_max_15_2.txt\", \"w\")\n",
    "for row in ind_max_25_2:\n",
    "    np.savetxt(dir, row)\n",
    "dir.close()"
   ]
  },
  {
   "cell_type": "code",
   "execution_count": null,
   "id": "3deb8b6b-f2c9-424e-b223-f62dc014b051",
   "metadata": {},
   "outputs": [],
   "source": []
  }
 ],
 "metadata": {
  "kernelspec": {
   "display_name": "NPL 2024b",
   "language": "python",
   "name": "npl-2024b"
  },
  "language_info": {
   "codemirror_mode": {
    "name": "ipython",
    "version": 3
   },
   "file_extension": ".py",
   "mimetype": "text/x-python",
   "name": "python",
   "nbconvert_exporter": "python",
   "pygments_lexer": "ipython3",
   "version": "3.11.9"
  }
 },
 "nbformat": 4,
 "nbformat_minor": 5
}
