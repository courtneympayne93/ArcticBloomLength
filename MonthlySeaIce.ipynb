{
 "cells": [
  {
   "cell_type": "markdown",
   "id": "aa274372-3bbf-4498-a1b9-3552389c0139",
   "metadata": {},
   "source": [
    "This script is used to produce perennial and seasonal sea ice masks for the Payne et al. paper \"End-of-century Arctic Ocean phytoplankton blooms start a month earlier due to anthropogenic climate change\". "
   ]
  },
  {
   "cell_type": "markdown",
   "id": "78eb353a-47b5-46dc-a474-6de82f88d9a3",
   "metadata": {},
   "source": [
    "1. Import packages"
   ]
  },
  {
   "cell_type": "code",
   "execution_count": 2,
   "id": "35c82896-f9a0-4b36-8650-c9b46a2ca10c",
   "metadata": {},
   "outputs": [],
   "source": [
    "import numpy as np\n",
    "import xarray as xr\n",
    "import glob\n",
    "import matplotlib.pyplot as plt\n",
    "import cmocean\n",
    "import cartopy.crs as ccrs\n",
    "import cartopy.feature as cfeature"
   ]
  },
  {
   "cell_type": "markdown",
   "id": "f880554d-860c-4a67-868b-3b29ab3a6564",
   "metadata": {},
   "source": [
    "2. Read in aice netcdf files and compile them into march and september arrays."
   ]
  },
  {
   "cell_type": "code",
   "execution_count": 3,
   "id": "0d7aa26c-5a6c-4c20-a9a0-5d3d4bbaa83d",
   "metadata": {},
   "outputs": [
    {
     "name": "stdout",
     "output_type": "stream",
     "text": [
      "/glade/campaign/cgd/cesm/CESM2-LE/ice/proc/tseries/month_1/aice/b.e21.BHISTsmbb.f09_g17.LE2-1151.008.cice.h.aice.197001-197912.nc\n",
      "/glade/campaign/cgd/cesm/CESM2-LE/ice/proc/tseries/month_1/aice/b.e21.BHISTsmbb.f09_g17.LE2-1251.017.cice.h.aice.198001-198912.nc\n",
      "/glade/campaign/cgd/cesm/CESM2-LE/ice/proc/tseries/month_1/aice/b.e21.BHISTsmbb.f09_g17.LE2-1251.018.cice.h.aice.199001-199912.nc\n",
      "/glade/campaign/cgd/cesm/CESM2-LE/ice/proc/tseries/month_1/aice/b.e21.BHISTsmbb.f09_g17.LE2-1301.016.cice.h.aice.200001-200912.nc\n",
      "/glade/campaign/cgd/cesm/CESM2-LE/ice/proc/tseries/month_1/aice/b.e21.BHISTsmbb.f09_g17.LE2-1231.012.cice.h.aice.201001-201412.nc\n",
      "/glade/campaign/cgd/cesm/CESM2-LE/ice/proc/tseries/month_1/aice/b.e21.BSSP370smbb.f09_g17.LE2-1251.020.cice.h.aice.201501-202412.nc\n",
      "/glade/campaign/cgd/cesm/CESM2-LE/ice/proc/tseries/month_1/aice/b.e21.BSSP370smbb.f09_g17.LE2-1231.015.cice.h.aice.202501-203412.nc\n",
      "/glade/campaign/cgd/cesm/CESM2-LE/ice/proc/tseries/month_1/aice/b.e21.BSSP370smbb.f09_g17.LE2-1301.013.cice.h.aice.203501-204412.nc\n",
      "/glade/campaign/cgd/cesm/CESM2-LE/ice/proc/tseries/month_1/aice/b.e21.BSSP370smbb.f09_g17.LE2-1191.010.cice.h.aice.204501-205412.nc\n",
      "/glade/campaign/cgd/cesm/CESM2-LE/ice/proc/tseries/month_1/aice/b.e21.BSSP370smbb.f09_g17.LE2-1251.013.cice.h.aice.205501-206412.nc\n",
      "/glade/campaign/cgd/cesm/CESM2-LE/ice/proc/tseries/month_1/aice/b.e21.BSSP370smbb.f09_g17.LE2-1031.002.cice.h.aice.206501-207412.nc\n",
      "/glade/campaign/cgd/cesm/CESM2-LE/ice/proc/tseries/month_1/aice/b.e21.BSSP370smbb.f09_g17.LE2-1071.004.cice.h.aice.207501-208412.nc\n",
      "/glade/campaign/cgd/cesm/CESM2-LE/ice/proc/tseries/month_1/aice/b.e21.BSSP370smbb.f09_g17.LE2-1251.014.cice.h.aice.208501-209412.nc\n",
      "/glade/campaign/cgd/cesm/CESM2-LE/ice/proc/tseries/month_1/aice/b.e21.BSSP370smbb.f09_g17.LE2-1301.020.cice.h.aice.209501-210012.nc\n"
     ]
    }
   ],
   "source": [
    "# a. Select variable of interest and locate the files\n",
    "vdir = 'ice' # 'ocn' or 'ice'\n",
    "vnam = 'aice'\n",
    "\n",
    "# Make march and sept aice arrays.\n",
    "mar_aice = np.full([50, 14, 384, 320], np.nan)\n",
    "sep_aice = np.full([50, 14, 384, 320], np.nan)\n",
    "\n",
    "# Read in ice area netcdf files and only use march or sept data\n",
    "y1 = np.arange(1970,2011,10); y2 = np.arange(2015,2096,10)\n",
    "ctr = 0; yrct = -1\n",
    "for yr in np.concatenate((y1,y2), axis = 0):\n",
    "    yrct = yrct + 1\n",
    "    fdir = '/glade/campaign/cgd/cesm/CESM2-LE/'+ vdir + '/proc/tseries/month_1/' + vnam + '/'\n",
    "# b. Make an array of nans to store the values from all EMs\n",
    "    i = -1\n",
    "    \n",
    "# c. Loop through all the files in the directory, storing data in dat_clim\n",
    "    for file in glob.glob(fdir + \"*smbb*\" + str(yr) + \"01*\"):\n",
    "        i = i + 1\n",
    "        if i == 0:\n",
    "            print(file)\n",
    "        if yr%10 != 0:\n",
    "            ctr = 60\n",
    "\n",
    "# d. Open the netcdf and store the variable of interest as dat. Also open lon and lat.\n",
    "        ncfile = xr.open_dataset(file) \n",
    "        dat = ncfile[vnam].values\n",
    "        lon, lat = ncfile.TLON.values, ncfile.TLAT.values #if in 'ice', use 'TLON', in 'ocn', use 'TLONG'\n",
    "\n",
    "# e. Interpolate lat and lon values over holes in the arrays\n",
    "        ok = ~np.isnan(lon)\n",
    "        xp = ok.ravel().nonzero()[0]\n",
    "        fp = lon[~np.isnan(lon)]\n",
    "        x  = np.isnan(lon).ravel().nonzero()[0]\n",
    "        lon[np.isnan(lon)] = np.interp(x, xp, fp)\n",
    "\n",
    "        ok = ~np.isnan(lat)\n",
    "        xp = ok.ravel().nonzero()[0]\n",
    "        fp = lat[~np.isnan(lat)]\n",
    "        x  = np.isnan(lat).ravel().nonzero()[0]\n",
    "        lat[np.isnan(lat)] = np.interp(x, xp, fp)\n",
    "        \n",
    "# f. Loop through the ensemble members, assigning each to its own column.\n",
    "        mar_aice[i,yrct,:,:] = dat[2+ctr,:,:]\n",
    "        sep_aice[i,yrct,:,:] = dat[8+ctr,:,:]\n"
   ]
  },
  {
   "cell_type": "markdown",
   "id": "85f2d857-712e-436d-82d4-4c314d929603",
   "metadata": {},
   "source": [
    "3. Make an areacello_ocn array that gives the area (in m2) of each grid cell in the larger region (latitude > 50°N)."
   ]
  },
  {
   "cell_type": "code",
   "execution_count": null,
   "id": "58e3e062-1fb7-4eed-8145-012333b121cb",
   "metadata": {},
   "outputs": [
    {
     "name": "stderr",
     "output_type": "stream",
     "text": [
      "/glade/u/apps/opt/conda/envs/npl-2024a/lib/python3.11/site-packages/xarray/conventions.py:448: SerializationWarning: variable 'areacello' has multiple fill values {1e+20, 1e+20}, decoding all values to NaN.\n",
      "  new_vars[k] = decode_cf_variable(\n"
     ]
    }
   ],
   "source": [
    "# b. Open up the areacello (area for ocean grid cells) file. I'll use this to calculate sea ice areal coverage\n",
    "acdir = '/glade/collections/cmip/CMIP6/CMIP/NCAR/CESM2/historical/r1i1p1f1/Ofx/areacello/gn/files/d20190308/areacello_Ofx_CESM2_historical_r1i1p1f1_gn.nc'\n",
    "acfil = xr.open_dataset(acdir)\n",
    "areacello = acfil['areacello'].values # tarea <- ocean files\n",
    "areacello_ocn = np.full([384,320], np.nan)\n",
    "for i in np.arange(0,384):\n",
    "    for j in np.arange(0,320):\n",
    "        if np.isnan(ncfile['aice'][5,i,j]) == False and ncfile[\"TLAT\"][i,j] > 50:\n",
    "            areacello_ocn[i,j] = areacello[i,j]\n"
   ]
  },
  {
   "cell_type": "markdown",
   "id": "5f67588d-d369-40fd-984c-bf1fc8529644",
   "metadata": {},
   "source": [
    "4. Here, I classify grid cells as either being in the ice-free area (0), in the seasonal ice zone (1), or the perennial ice zone (2) for each year (si_clim) and for each year and ensemble member (si_ens), based on whether the mean Mar and Sept sea ice extent is > or < 15%."
   ]
  },
  {
   "cell_type": "code",
   "execution_count": null,
   "id": "66e15f9d-7acb-4aad-9b10-0b35921558db",
   "metadata": {},
   "outputs": [],
   "source": [
    "si_clim = np.full([14,384,320], np.nan); si_ens = np.full([50,14,384,320], np.nan)\n",
    "for i in np.arange(0,384):\n",
    "    for j in np.arange(0,320):\n",
    "        if np.isnan(areacello_ocn[i,j]) == False:\n",
    "            for yrct in np.arange(0,14):\n",
    "                marice = np.mean(mar_aice[:,yrct,i,j])\n",
    "                sepice = np.mean(sep_aice[:,yrct,i,j])\n",
    "                si_clim[yrct,i,j] = 0\n",
    "                if marice >= .15 and sepice >= .15:\n",
    "                    si_clim[yrct,i,j] = 2\n",
    "                elif marice >= .15:\n",
    "                    si_clim[yrct,i,j] = 1\n",
    "                for ens in np.arange(0,50):\n",
    "                    si_ens[ens,yrct,i,j] = 0\n",
    "                    if mar_aice[ens,yrct,i,j] >= .15 and sep_aice[ens,yrct,i,j] >= .15:\n",
    "                        si_ens[ens,yrct,i,j] = 2\n",
    "                    elif mar_aice[ens,yrct,i,j] >= .15:\n",
    "                        si_ens[ens,yrct,i,j] = 1\n",
    "                    "
   ]
  },
  {
   "cell_type": "markdown",
   "id": "44702f74-7cdf-46df-9d4d-bc33a4da20b5",
   "metadata": {},
   "source": [
    "5. Write out data to a netcdf file."
   ]
  },
  {
   "cell_type": "code",
   "execution_count": 77,
   "id": "82349b07-7026-453e-8cc1-8c9fe05e8faf",
   "metadata": {},
   "outputs": [],
   "source": [
    "cdir = \"/glade/u/home/cpayne/CESM2LE/Input/simask.nc\"\n",
    "ds = xr.Dataset(\n",
    "    data_vars=dict(\n",
    "        si_clim=([\"year\", \"lat\", \"lon\"], si_clim),\n",
    "        si_ens=([\"EM\",\"year\", \"lat\", \"lon\"], si_ens),\n",
    "    ),\n",
    "    coords=dict(\n",
    "        TLON=([\"lat\", \"lon\"], lon),\n",
    "        TLAT=([\"lat\", \"lon\"], lat),\n",
    "        year=np.arange(1970,2101,10),\n",
    "        EM=np.arange(0,50),\n",
    "    ),\n",
    ")\n",
    "ds.to_netcdf(path = cdir, mode = 'w')"
   ]
  },
  {
   "cell_type": "code",
   "execution_count": null,
   "id": "c8c1dcc5-5429-417e-88a6-19443a7f0734",
   "metadata": {},
   "outputs": [],
   "source": []
  }
 ],
 "metadata": {
  "kernelspec": {
   "display_name": "NPL 2024a",
   "language": "python",
   "name": "npl-2024a"
  },
  "language_info": {
   "codemirror_mode": {
    "name": "ipython",
    "version": 3
   },
   "file_extension": ".py",
   "mimetype": "text/x-python",
   "name": "python",
   "nbconvert_exporter": "python",
   "pygments_lexer": "ipython3",
   "version": "3.11.6"
  }
 },
 "nbformat": 4,
 "nbformat_minor": 5
}
