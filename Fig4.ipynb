{
 "cells": [
  {
   "cell_type": "markdown",
   "id": "7529390b-fcbb-4c49-8c9f-72ac41524176",
   "metadata": {},
   "source": [
    "This script is used to produce Figure 4 (diatom and small phytoplankton NPP differences and N and light limitation terms) for the Payne et al. paper \"End-of-century Arctic Ocean phytoplankton blooms start a month earlier due to anthropogenic climate change\".\n"
   ]
  },
  {
   "cell_type": "markdown",
   "id": "df969979-1954-476c-bce2-94506718f988",
   "metadata": {},
   "source": [
    "1. Import libraries"
   ]
  },
  {
   "cell_type": "code",
   "execution_count": 1,
   "id": "e07ab555-6b78-48b9-b8d2-cb7508db6b01",
   "metadata": {},
   "outputs": [],
   "source": [
    "import numpy as np\n",
    "import xarray as xr\n",
    "import glob\n",
    "import matplotlib.pyplot as plt\n",
    "import matplotlib.path as mpath\n",
    "import matplotlib.ticker as mticker\n",
    "import cartopy.crs as ccrs\n",
    "import cartopy.feature as cfeature\n",
    "import cmocean as cmo\n",
    "import warnings\n",
    "warnings.filterwarnings(\"ignore\")"
   ]
  },
  {
   "cell_type": "markdown",
   "id": "93b57a4a-d048-4aff-aabf-38bfe0a7b146",
   "metadata": {},
   "source": [
    "2. Read in bloom start (max_25) and end (max_25_2) files and npp during the bloom (npp_bloom) and total annual npp (npp_tot). These files were created for each year and across all ensemble members using the \"BloomMetrics\" script. Bloom start occurs on the date when biomass first surpasses 25% of the maximum biomass at any given grid cell, and end occurs on the date when biomass first diminishes below 25% of the maximum following the peak in biomass. I then set any zero values to 'nan'."
   ]
  },
  {
   "cell_type": "code",
   "execution_count": 2,
   "id": "f3466a1c-c10a-4c31-af36-a379d5e15993",
   "metadata": {},
   "outputs": [],
   "source": [
    "max_25 = np.zeros([14,384,320,50]); max_100 = np.zeros([14,384,320,50]); max_25_2 = np.zeros([14,384,320,50]); \n",
    "npp_tot = np.zeros([14,384,320,50]); npp_bloom = np.zeros([14,384,320,50]); \n",
    "for yrset in np.arange(0,14):\n",
    "    yrnum = str(1970 + yrset*10)\n",
    "    dir = np.loadtxt(\"/glade/u/home/cpayne/Projects/BloomLength/AnnualGC/\" + yrnum + \"_max_25.txt\")\n",
    "    max_25[yrset,:,:,:] = dir.reshape(384,320,50)\n",
    "    dir = np.loadtxt(\"/glade/u/home/cpayne/Projects/BloomLength/AnnualGC/\" + yrnum + \"_max_25_2.txt\")\n",
    "    max_25_2[yrset,:,:,:] = dir.reshape(384,320,50)\n",
    "    # dir = np.loadtxt(\"/glade/u/home/cpayne/Projects/BloomLength/AnnualGC/\" + yrnum + \"_npp_bloom.txt\")\n",
    "    # npp_bloom[yrset,:,:,:] = dir.reshape(384,320,50)\n",
    "    # dir = np.loadtxt(\"/glade/u/home/cpayne/Projects/BloomLength/AnnualGC/\" + yrnum + \"_npp_tot.txt\")\n",
    "    # npp_tot[yrset,:,:,:] = dir.reshape(384,320,50)\n"
   ]
  },
  {
   "cell_type": "markdown",
   "id": "969e70ce-a6c2-407c-9907-c48b168fbfbd",
   "metadata": {},
   "source": [
    "3. Read in a randomly chosen NPP file. This is used to generate latitude (lat) and longitude (lon) fields for CESM files."
   ]
  },
  {
   "cell_type": "code",
   "execution_count": 3,
   "id": "85ff9c08-a138-494b-acc1-dde47ce1ede5",
   "metadata": {},
   "outputs": [],
   "source": [
    "# Select a file\n",
    "vdir = 'ocn'\n",
    "vnam = 'photoC_diat_zint_2'\n",
    "fdir = '/glade/campaign/cgd/cesm/CESM2-LE/'+ vdir + '/proc/tseries/day_1/' + vnam + '/'\n",
    "fnam = 'b.e21.BSSP370cmip6.f09_g17.LE2-1301.003.pop.h.ecosys.nday1.photoC_diat_zint_2.20450102-20550101.nc'\n",
    "\n",
    "ncfile = xr.open_dataset(fdir + fnam)\n",
    "lon = ncfile.TLONG.values\n",
    "lat = ncfile.TLAT.values\n",
    "\n",
    "# Interpolate lat and lon values over holes in the arrays\n",
    "ok = ~np.isnan(lon)\n",
    "xp = ok.ravel().nonzero()[0]\n",
    "fp = lon[~np.isnan(lon)]\n",
    "x  = np.isnan(lon).ravel().nonzero()[0]\n",
    "lon[np.isnan(lon)] = np.interp(x, xp, fp)\n",
    "\n",
    "ok = ~np.isnan(lat)\n",
    "xp = ok.ravel().nonzero()[0]\n",
    "fp = lat[~np.isnan(lat)]\n",
    "x  = np.isnan(lat).ravel().nonzero()[0]\n",
    "lat[np.isnan(lat)] = np.interp(x, xp, fp)"
   ]
  },
  {
   "cell_type": "markdown",
   "id": "d21abe7c-999d-47ec-92a7-a2ee65dfeedd",
   "metadata": {},
   "source": [
    "4. Make the areacello_ocn array that gives the area (in m2) of each grid cell in the larger region (latitude > 50°N)."
   ]
  },
  {
   "cell_type": "code",
   "execution_count": 4,
   "id": "4e52a72d-c512-4e4c-b091-829c057f6744",
   "metadata": {},
   "outputs": [],
   "source": [
    "# b. Open up the areacello (area for ocean grid cells) file. I'll use this to calculate sea ice areal coverage\n",
    "acdir = '/glade/collections/cmip/CMIP6/CMIP/NCAR/CESM2/historical/r1i1p1f1/Ofx/areacello/gn/files/d20190308/areacello_Ofx_CESM2_historical_r1i1p1f1_gn.nc'\n",
    "acfil = xr.open_dataset(acdir)\n",
    "areacello = acfil['areacello'].values # tarea <- ocean files\n",
    "areacello_ocn = np.full([384,320], np.nan); areacello_arc = np.full([384,320], np.nan)\n",
    "for i in np.arange(0,384):\n",
    "    for j in np.arange(0,320):\n",
    "        if np.isnan(ncfile['photoC_diat_zint_2'][180,i,j]) == False and ncfile[\"TLAT\"][i,j] > 50:\n",
    "            areacello_ocn[i,j] = areacello[i,j]\n",
    "        if np.isnan(ncfile['photoC_diat_zint_2'][180,i,j]) == False and ncfile[\"TLAT\"][i,j] > 66.5:\n",
    "            areacello_arc[i,j] = areacello[i,j]\n"
   ]
  },
  {
   "cell_type": "markdown",
   "id": "cd7cbe3d-30c0-44e6-afd1-8cbae37e9f98",
   "metadata": {},
   "source": [
    "5. Read in diatom light and N limitation files for 1970, 2020, and 2100 from the CESM2-LE."
   ]
  },
  {
   "cell_type": "code",
   "execution_count": 6,
   "id": "4f8fd81d-6cfb-45ce-8f49-7fe6e0953cfc",
   "metadata": {},
   "outputs": [],
   "source": [
    "var = 'diat_light_lim_Cweight_avg_100m'\n",
    "fdir = '/glade/campaign/cgd/cesm/CESM2-LE/ocn/proc/tseries/month_1/'+ var + '/'\n",
    "diat_llim_1970 = np.zeros([50,12,384,320])\n",
    "ens = -1\n",
    "for file in glob.glob(fdir + \"*smbb*197001*\"): \n",
    "    ens += 1\n",
    "    ncfile = xr.open_dataset(file)\n",
    "    diat_llim_1970[ens,:,:,:] = ncfile[var][0:12,:,:] #0:12 for 1970, 48:60 for 2020 and 2100\n",
    "diat_llim_2020 = np.zeros([50,12,384,320])\n",
    "ens = -1\n",
    "for file in glob.glob(fdir + \"*smbb*201501*\"): \n",
    "    ens += 1\n",
    "    ncfile = xr.open_dataset(file)\n",
    "    diat_llim_2020[ens,:,:,:] = ncfile[var][48:60,:,:] #0:12 for 1970, 48:60 for 2020 and 2100\n",
    "diat_llim_2100 = np.zeros([50,12,384,320])\n",
    "ens = -1\n",
    "for file in glob.glob(fdir + \"*smbb*209501*\"): \n",
    "    ens += 1\n",
    "    ncfile = xr.open_dataset(file)\n",
    "    diat_llim_2100[ens,:,:,:] = ncfile[var][48:60,:,:] #0:12 for 1970, 48:60 for 2020 and 2100\n"
   ]
  },
  {
   "cell_type": "code",
   "execution_count": 5,
   "id": "de3fa1ea-8d1d-45e3-9a91-c553ff562a15",
   "metadata": {},
   "outputs": [],
   "source": [
    "var = 'diat_N_lim_Cweight_avg_100m'\n",
    "fdir = '/glade/campaign/cgd/cesm/CESM2-LE/ocn/proc/tseries/month_1/'+ var + '/'\n",
    "diat_nlim_1970 = np.zeros([50,12,384,320])\n",
    "ens = -1\n",
    "for file in glob.glob(fdir + \"*smbb*197001*\"): \n",
    "    ens += 1\n",
    "    ncfile = xr.open_dataset(file)\n",
    "    diat_nlim_1970[ens,:,:,:] = ncfile[var][0:12,:,:] #0:12 for 1970, 48:60 for 2020 and 2100\n",
    "diat_nlim_2020 = np.zeros([50,12,384,320])\n",
    "ens = -1\n",
    "for file in glob.glob(fdir + \"*smbb*201501*\"): \n",
    "    ens += 1\n",
    "    ncfile = xr.open_dataset(file)\n",
    "    diat_nlim_2020[ens,:,:,:] = ncfile[var][48:60,:,:] #0:12 for 1970, 48:60 for 2020 and 2100\n",
    "diat_nlim_2100 = np.zeros([50,12,384,320])\n",
    "ens = -1\n",
    "for file in glob.glob(fdir + \"*smbb*209501*\"): \n",
    "    ens += 1\n",
    "    ncfile = xr.open_dataset(file)\n",
    "    diat_nlim_2100[ens,:,:,:] = ncfile[var][48:60,:,:] #0:12 for 1970, 48:60 for 2020 and 2100\n"
   ]
  },
  {
   "cell_type": "markdown",
   "id": "d712ff46-049a-4118-a3d9-ecf80fe1c7aa",
   "metadata": {},
   "source": [
    "7. Read in small phytoplankton light and N limitation terms for 1970, 2020, and 2100. "
   ]
  },
  {
   "cell_type": "code",
   "execution_count": 7,
   "id": "65deb566-cb6d-4d9b-9d37-bcd605e310ab",
   "metadata": {},
   "outputs": [],
   "source": [
    "var = 'sp_light_lim_Cweight_avg_100m'#'diat_N_lim_Cweight_avg_100m'\n",
    "fdir = '/glade/campaign/cgd/cesm/CESM2-LE/ocn/proc/tseries/month_1/'+ var + '/'\n",
    "sp_llim_1970 = np.zeros([50,12,384,320])\n",
    "ens = -1\n",
    "for file in glob.glob(fdir + \"*smbb*197001*\"): \n",
    "    ens += 1\n",
    "    ncfile = xr.open_dataset(file)\n",
    "    sp_llim_1970[ens,:,:,:] = ncfile[var][0:12,:,:] #0:12 for 1970, 48:60 for 2020 and 2100\n",
    "sp_llim_2020 = np.zeros([50,12,384,320])\n",
    "ens = -1\n",
    "for file in glob.glob(fdir + \"*smbb*201501*\"): \n",
    "    ens += 1\n",
    "    ncfile = xr.open_dataset(file)\n",
    "    sp_llim_2020[ens,:,:,:] = ncfile[var][48:60,:,:] #0:12 for 1970, 48:60 for 2020 and 2100\n",
    "sp_llim_2100 = np.zeros([50,12,384,320])\n",
    "ens = -1\n",
    "for file in glob.glob(fdir + \"*smbb*209501*\"): \n",
    "    ens += 1\n",
    "    ncfile = xr.open_dataset(file)\n",
    "    sp_llim_2100[ens,:,:,:] = ncfile[var][48:60,:,:] #0:12 for 1970, 48:60 for 2020 and 2100\n"
   ]
  },
  {
   "cell_type": "code",
   "execution_count": 8,
   "id": "448199f9-2744-45e5-9320-26510b68d741",
   "metadata": {},
   "outputs": [],
   "source": [
    "var = 'sp_N_lim_Cweight_avg_100m'#'diat_N_lim_Cweight_avg_100m'\n",
    "fdir = '/glade/campaign/cgd/cesm/CESM2-LE/ocn/proc/tseries/month_1/'+ var + '/'\n",
    "sp_nlim_1970 = np.zeros([50,12,384,320])\n",
    "ens = -1\n",
    "for file in glob.glob(fdir + \"*smbb*197001*\"): \n",
    "    ens += 1\n",
    "    ncfile = xr.open_dataset(file)\n",
    "    sp_nlim_1970[ens,:,:,:] = ncfile[var][0:12,:,:] #0:12 for 1970, 48:60 for 2020 and 2100\n",
    "sp_nlim_2020 = np.zeros([50,12,384,320])\n",
    "ens = -1\n",
    "for file in glob.glob(fdir + \"*smbb*201501*\"): \n",
    "    ens += 1\n",
    "    ncfile = xr.open_dataset(file)\n",
    "    sp_nlim_2020[ens,:,:,:] = ncfile[var][48:60,:,:] #0:12 for 1970, 48:60 for 2020 and 2100\n",
    "sp_nlim_2100 = np.zeros([50,12,384,320])\n",
    "ens = -1\n",
    "for file in glob.glob(fdir + \"*smbb*209501*\"): \n",
    "    ens += 1\n",
    "    ncfile = xr.open_dataset(file)\n",
    "    sp_nlim_2100[ens,:,:,:] = ncfile[var][48:60,:,:] #0:12 for 1970, 48:60 for 2020 and 2100\n"
   ]
  },
  {
   "cell_type": "markdown",
   "id": "79005cf6-e2f4-4db7-90f7-9bf5468dd033",
   "metadata": {},
   "source": [
    "8. In this loop, I first determine the month that the bloom starts and ends for each grid cell and each ensemble member. I then calculate '_av' limitation terms over the course of the bloom for each grid cell and each ensemble member."
   ]
  },
  {
   "cell_type": "code",
   "execution_count": 9,
   "id": "5a6add87-24f9-4287-8c17-2452d8c7054b",
   "metadata": {},
   "outputs": [],
   "source": [
    "# Days per month\n",
    "dpm = [31,28,31,30,31,30,31,31,30,31,30,31]\n",
    "\n",
    "# Set up bloom-averaged limitation term arrays \n",
    "diat_nlim_1970_av = np.zeros([50,384,320]); diat_nlim_2020_av = np.zeros([50,384,320]); diat_nlim_2100_av = np.zeros([50,384,320]); \n",
    "diat_llim_1970_av = np.zeros([50,384,320]); diat_llim_2020_av = np.zeros([50,384,320]); diat_llim_2100_av = np.zeros([50,384,320]); \n",
    "sp_nlim_1970_av = np.zeros([50,384,320]); sp_nlim_2020_av = np.zeros([50,384,320]); sp_nlim_2100_av = np.zeros([50,384,320]); \n",
    "sp_llim_1970_av = np.zeros([50,384,320]); sp_llim_2020_av = np.zeros([50,384,320]); sp_llim_2100_av = np.zeros([50,384,320]); \n",
    "\n",
    "# Bloom start and end for each grid cell\n",
    "bs_70 = 0; be_70 = 0; bs_20 = 0; be_20 = 0; bs_00 = 0; be_00 = 0\n",
    "\n",
    "# Loop over all grid cells\n",
    "for i in np.arange(0,384):\n",
    "    for j in np.arange(0,320):\n",
    "        for ens in np.arange(0,50):\n",
    "            ctr = -1\n",
    "            for a in [1,32,60,91,121,152,182,213,244,274,305,335]:\n",
    "                ctr += 1\n",
    "                # Identify the start and end months of the bloom\n",
    "                if max_25[0,i,j,ens] > a and max_25[0,i,j,ens] < a + dpm[ctr]:\n",
    "                    bs_70 = (ctr + 1) + (max_25[0,i,j,ens]-a)/dpm[ctr]\n",
    "                if max_25_2[0,i,j,ens] > a and max_25_2[0,i,j,ens] < a + dpm[ctr]:\n",
    "                    be_70 = (ctr + 1) + (max_25_2[0,i,j,ens]-a)/dpm[ctr]\n",
    "                if max_25[5,i,j,ens] > a and max_25[5,i,j,ens] < a + dpm[ctr]:\n",
    "                    bs_20 = (ctr + 1) + (max_25[5,i,j,ens]-a)/dpm[ctr]\n",
    "                if max_25_2[5,i,j,ens] > a and max_25_2[5,i,j,ens] < a + dpm[ctr]:\n",
    "                    be_20 = (ctr + 1) + (max_25_2[5,i,j,ens]-a)/dpm[ctr]\n",
    "                if max_25[13,i,j,ens] > a and max_25[13,i,j,ens] < a + dpm[ctr]:\n",
    "                    bs_00 = (ctr + 1) + (max_25[13,i,j,ens]-a)/dpm[ctr]\n",
    "                if max_25_2[13,i,j,ens] > a and max_25_2[13,i,j,ens] < a + dpm[ctr]:\n",
    "                    be_00 = (ctr + 1) + (max_25_2[13,i,j,ens]-a)/dpm[ctr]\n",
    "                    \n",
    "            # Calculate the proportion of each month that occurs\n",
    "            # during the bloom, and use this to sum light and N\n",
    "            # limitation terms.\n",
    "            ft = True; summ = 0\n",
    "            for m in np.arange(0,12):\n",
    "                if (m + 2) > bs_70 and (m+1) < be_70:\n",
    "                    if ft == True:\n",
    "                        monprop = m + 2 - bs_70\n",
    "                        ft = False\n",
    "                    elif (m+2) > be_70:\n",
    "                        monprop = be_70 - m - 1\n",
    "                    else:\n",
    "                        monprop = 1\n",
    "                    # Sum limitation terms, adjusted by number of\n",
    "                    # days in the month and proportion of the month\n",
    "                    # (monprop) that was during the bloom.\n",
    "                    summ +=dpm[m]*monprop\n",
    "                    diat_nlim_1970_av[ens,i,j] += diat_nlim_1970[ens,m,i,j] * monprop * dpm[m]\n",
    "                    diat_llim_1970_av[ens,i,j] += diat_llim_1970[ens,m,i,j] * monprop * dpm[m]\n",
    "                    sp_nlim_1970_av[ens,i,j] += sp_nlim_1970[ens,m,i,j] * monprop * dpm[m]\n",
    "                    sp_llim_1970_av[ens,i,j] += sp_llim_1970[ens,m,i,j] * monprop * dpm[m]\n",
    "            # Calculate av lim term by dividing the number of days \n",
    "            # of the bloom\n",
    "            diat_nlim_1970_av[ens,i,j] = diat_nlim_1970_av[ens,i,j]/summ\n",
    "            diat_llim_1970_av[ens,i,j] = diat_llim_1970_av[ens,i,j]/summ\n",
    "            sp_nlim_1970_av[ens,i,j] = sp_nlim_1970_av[ens,i,j]/summ\n",
    "            sp_llim_1970_av[ens,i,j] = sp_llim_1970_av[ens,i,j]/summ\n",
    "\n",
    "            # Redo these calculations for 2020\n",
    "            ft = True; summ = 0\n",
    "            for m in np.arange(0,12):\n",
    "                if (m + 2) > bs_20 and (m+1) < be_20:\n",
    "                    if ft == True:\n",
    "                        monprop = m + 2 - bs_20\n",
    "                        ft = False\n",
    "                    elif (m+2) > be_20:\n",
    "                        monprop = be_20 - m - 1\n",
    "                    else:\n",
    "                        monprop = 1\n",
    "                    summ +=dpm[m]*monprop\n",
    "                    diat_nlim_2020_av[ens,i,j] += diat_nlim_2020[ens,m,i,j]* monprop * dpm[m]\n",
    "                    diat_llim_2020_av[ens,i,j] += diat_llim_2020[ens,m,i,j]* monprop * dpm[m]\n",
    "                    sp_nlim_2020_av[ens,i,j] += sp_nlim_2020[ens,m,i,j]* monprop * dpm[m]\n",
    "                    sp_llim_2020_av[ens,i,j] += sp_llim_2020[ens,m,i,j]* monprop * dpm[m]\n",
    "            diat_nlim_2020_av[ens,i,j] = diat_nlim_2020_av[ens,i,j]/summ\n",
    "            diat_llim_2020_av[ens,i,j] = diat_llim_2020_av[ens,i,j]/summ\n",
    "            sp_nlim_2020_av[ens,i,j] = sp_nlim_2020_av[ens,i,j]/summ\n",
    "            sp_llim_2020_av[ens,i,j] = sp_llim_2020_av[ens,i,j]/summ\n",
    "\n",
    "            # Redo these calculations for 2100\n",
    "            ft = True; summ = 0\n",
    "            for m in np.arange(0,12):\n",
    "                if (m + 2) > bs_00 and (m+1) < be_00:\n",
    "                    if ft == True:\n",
    "                        monprop = m + 2 - bs_00\n",
    "                        ft = False\n",
    "                    elif (m+2) > be_00:\n",
    "                        monprop = be_00 - m - 1\n",
    "                    else:\n",
    "                        monprop = 1\n",
    "                    summ +=dpm[m]*monprop\n",
    "                    diat_nlim_2100_av[ens,i,j] += diat_nlim_2100[ens,m,i,j]* monprop * dpm[m]\n",
    "                    diat_llim_2100_av[ens,i,j] += diat_llim_2100[ens,m,i,j]* monprop * dpm[m]\n",
    "                    sp_nlim_2100_av[ens,i,j] += sp_nlim_2100[ens,m,i,j]* monprop * dpm[m]\n",
    "                    sp_llim_2100_av[ens,i,j] += sp_llim_2100[ens,m,i,j]* monprop * dpm[m]\n",
    "            diat_nlim_2100_av[ens,i,j] = diat_nlim_2100_av[ens,i,j]/summ\n",
    "            diat_llim_2100_av[ens,i,j] = diat_llim_2100_av[ens,i,j]/summ\n",
    "            sp_nlim_2100_av[ens,i,j] = sp_nlim_2100_av[ens,i,j]/summ\n",
    "            sp_llim_2100_av[ens,i,j] = sp_llim_2100_av[ens,i,j]/summ\n"
   ]
  },
  {
   "cell_type": "markdown",
   "id": "6d18daa8-500f-42bd-acb3-ebb3f662c06e",
   "metadata": {},
   "source": [
    "9. Make Figures 4e-l by subtracting lim terms for 2020 or 2100 from 1970."
   ]
  },
  {
   "cell_type": "code",
   "execution_count": 10,
   "id": "0c43344c-deee-42fa-844d-1ea852fe4916",
   "metadata": {},
   "outputs": [
    {
     "data": {
      "image/png": "[encoded data removed]",
      "text/plain": [
       "<Figure size 300x300 with 1 Axes>"
      ]
     },
     "metadata": {},
     "output_type": "display_data"
    }
   ],
   "source": [
    "# make circular boundary for polar stereographic circular plots\n",
    "theta = np.linspace(0, 2*np.pi, 100)\n",
    "center, radius = [0.5, 0.5], 0.5\n",
    "verts = np.vstack([np.sin(theta), np.cos(theta)]).T\n",
    "circle = mpath.Path(verts * radius + center)\n",
    "\n",
    "# set figure basics (size, projection)\n",
    "fig = plt.figure(figsize=(3,3)) \n",
    "# fig = plt.figure(figsize=(6,6)) \n",
    "ax = plt.axes(projection=ccrs.NorthPolarStereo()); \n",
    "ax.set_boundary(circle, transform=ax.transAxes)\n",
    "ax.set_extent([-180, 180, 50, 90], crs = ccrs.PlateCarree());\n",
    "\n",
    "# plot changes in the actual variable of interest on top\n",
    "pc = ax.pcolormesh(lon, lat, np.nanmean(sp_nlim_2100_av,axis=0) - np.nanmean(sp_nlim_1970_av,axis=0),\n",
    "                   transform=ccrs.PlateCarree(), vmin = -.4, vmax = .4,  #-60 60, -20 20\n",
    "                   cmap='coolwarm', zorder = 1); #coolwarm, BrBG_r\n",
    "\n",
    "# add land on top and colorbar\n",
    "ax.coastlines();  ax.add_feature(cfeature.LAND, zorder = 1); #plt.colorbar(pc, orientation='horizontal', extend='both');\n",
    "# plt.colorbar(pc, orientation = 'horizontal');\n",
    "\n",
    "# print this figure\n",
    "# figdir = '/glade/u/home/cpayne/Projects/BloomLength/Figures/Fig4l.png';\n",
    "# plt.savefig(figdir,facecolor='none', dpi = 600);\n",
    "# # plt.close()"
   ]
  },
  {
   "cell_type": "markdown",
   "id": "48e318f9-82b0-4057-8798-0ab49686cf85",
   "metadata": {},
   "source": [
    "10. I use this code to calculate statistics and values reported in the paper, including mean limitation terms over the Arctic and 50°N."
   ]
  },
  {
   "cell_type": "code",
   "execution_count": 11,
   "id": "b0026dde-dc11-4e28-a449-3fe97c3924e9",
   "metadata": {},
   "outputs": [],
   "source": [
    "bs = np.zeros([50,384,320]);vari = np.zeros([50,384,320])\n",
    "bs2 = np.zeros([50,384,320]);vari2 = np.zeros([50,384,320])\n",
    "for ens in np.arange(0,50):\n",
    "    bs[ens,:,:] =(max_25_2[0,:,:,ens])*areacello_arc\n",
    "    bs2[ens,:,:] =(max_25_2[13,:,:,ens])*areacello_arc\n",
    "    vari[ens,:,:] = sp_llim_1970_av[ens,:,:]*areacello_arc\n",
    "    vari2[ens,:,:] = sp_llim_2100_av[ens,:,:]*areacello_arc"
   ]
  },
  {
   "cell_type": "code",
   "execution_count": 13,
   "id": "3a3fc091-de1f-4e5f-bee6-0523a6608ef7",
   "metadata": {},
   "outputs": [
    {
     "name": "stdout",
     "output_type": "stream",
     "text": [
      "0.014195615887003386 0.0\n"
     ]
    }
   ],
   "source": [
    "from scipy import stats\n",
    "mask = ~np.isnan(vari) & ~np.isnan(bs) & ~np.isnan(vari2) & ~np.isnan(bs2)\n",
    "a = stats.linregress(vari2[mask]-vari[mask],bs2[mask]-bs[mask])\n",
    "print(a.rvalue*a.rvalue,a.pvalue)"
   ]
  },
  {
   "cell_type": "code",
   "execution_count": 14,
   "id": "5c64d473-8a7f-4529-b97d-f5a5451b8445",
   "metadata": {},
   "outputs": [],
   "source": [
    "ocn_ens = np.zeros([50]); arc_ens = np.zeros([50])\n",
    "for ens in np.arange(0,50):\n",
    "    ocn_ens[ens] = np.nansum(sp_nlim_2100_av[ens,:,:] * areacello_ocn)/np.nansum(areacello_ocn)\n",
    "    arc_ens[ens] = np.nansum(sp_nlim_2100_av[ens,:,:] * areacello_arc)/np.nansum(areacello_arc)"
   ]
  },
  {
   "cell_type": "code",
   "execution_count": 15,
   "id": "89657987-a017-44d9-bd47-2ed125efb133",
   "metadata": {},
   "outputs": [
    {
     "name": "stdout",
     "output_type": "stream",
     "text": [
      "0.8428649230716232 0.7485150764539438\n"
     ]
    }
   ],
   "source": [
    "print(np.mean(ocn_ens), np.mean(arc_ens))"
   ]
  },
  {
   "cell_type": "markdown",
   "id": "5b7a083d-6d48-4b2d-8e16-3518f6120827",
   "metadata": {},
   "source": [
    "11. Read in diatom and small phytoplankton NPP individually for each ensemble member and for 1970, 2020, and 2100."
   ]
  },
  {
   "cell_type": "code",
   "execution_count": 16,
   "id": "319f1e74-521d-46bc-9b7e-d3e601ef9aff",
   "metadata": {},
   "outputs": [],
   "source": [
    "var = 'photoC_diat_zint'#'diat_N_lim_Cweight_avg_100m'\n",
    "fdir = '/glade/campaign/cgd/cesm/CESM2-LE/ocn/proc/tseries/month_1/'+ var + '/'\n",
    "diatNPP_1970 = np.zeros([50,384,320])\n",
    "ens = -1\n",
    "for file in glob.glob(fdir + \"*smbb*197001*\"): \n",
    "    ens += 1\n",
    "    ncfile = xr.open_dataset(file)\n",
    "    diatNPP_1970[ens,:,:] = np.nanmean(ncfile[var][0:12,:,:],axis=0)*10.377*365 #0:12 for 1970, 48:60 for 2020 and 2100\n",
    "diatNPP_2020 = np.zeros([50,384,320])\n",
    "ens = -1\n",
    "for file in glob.glob(fdir + \"*smbb*201501*\"): \n",
    "    ens += 1\n",
    "    ncfile = xr.open_dataset(file)\n",
    "    diatNPP_2020[ens,:,:] = np.nanmean(ncfile[var][48:60,:,:],axis=0)*10.377*365 #0:12 for 1970, 48:60 for 2020 and 2100\n",
    "diatNPP_2100 = np.zeros([50,384,320])\n",
    "ens = -1\n",
    "for file in glob.glob(fdir + \"*smbb*209501*\"): \n",
    "    ens += 1\n",
    "    ncfile = xr.open_dataset(file)\n",
    "    diatNPP_2100[ens,:,:] = np.nanmean(ncfile[var][48:60,:,:],axis=0)*10.377*365 #0:12 for 1970, 48:60 for 2020 and 2100\n"
   ]
  },
  {
   "cell_type": "code",
   "execution_count": 17,
   "id": "655cde1a-fbbe-4d17-ad7f-cb530329dc26",
   "metadata": {},
   "outputs": [],
   "source": [
    "var = 'photoC_sp_zint'#'diat_N_lim_Cweight_avg_100m'\n",
    "fdir = '/glade/campaign/cgd/cesm/CESM2-LE/ocn/proc/tseries/month_1/'+ var + '/'\n",
    "spNPP_1970 = np.zeros([50,384,320])\n",
    "ens = -1\n",
    "for file in glob.glob(fdir + \"*smbb*197001*\"): \n",
    "    ens += 1\n",
    "    ncfile = xr.open_dataset(file)\n",
    "    spNPP_1970[ens,:,:] = np.nanmean(ncfile[var][0:12,:,:],axis=0)*10.377*365 #0:12 for 1970, 48:60 for 2020 and 2100\n",
    "spNPP_2020 = np.zeros([50,384,320])\n",
    "ens = -1\n",
    "for file in glob.glob(fdir + \"*smbb*201501*\"): \n",
    "    ens += 1\n",
    "    ncfile = xr.open_dataset(file)\n",
    "    spNPP_2020[ens,:,:] = np.nanmean(ncfile[var][48:60,:,:],axis=0)*10.377*365 #0:12 for 1970, 48:60 for 2020 and 2100\n",
    "spNPP_2100 = np.zeros([50,384,320])\n",
    "ens = -1\n",
    "for file in glob.glob(fdir + \"*smbb*209501*\"): \n",
    "    ens += 1\n",
    "    ncfile = xr.open_dataset(file)\n",
    "    spNPP_2100[ens,:,:] = np.nanmean(ncfile[var][48:60,:,:],axis=0)*10.377*365 #0:12 for 1970, 48:60 for 2020 and 2100\n"
   ]
  },
  {
   "cell_type": "markdown",
   "id": "d845c764-b986-488f-8ae7-91dc9c370641",
   "metadata": {},
   "source": [
    "12. Make Figures 4a-d by plotting the proportion of NPP produced by diatoms and small phytoplankton in 1970 and 2100 (2020 looks very similar to 1970)."
   ]
  },
  {
   "cell_type": "code",
   "execution_count": 18,
   "id": "611961a7-8f56-43fe-ab5d-d917922ae38f",
   "metadata": {},
   "outputs": [
    {
     "data": {
      "image/png": "[encoded data removed]",
      "text/plain": [
       "<Figure size 300x300 with 1 Axes>"
      ]
     },
     "metadata": {},
     "output_type": "display_data"
    }
   ],
   "source": [
    "# make circular boundary for polar stereographic circular plots\n",
    "theta = np.linspace(0, 2*np.pi, 100)\n",
    "center, radius = [0.5, 0.5], 0.5\n",
    "verts = np.vstack([np.sin(theta), np.cos(theta)]).T\n",
    "circle = mpath.Path(verts * radius + center)\n",
    "\n",
    "# set figure basics (size, projection)\n",
    "fig = plt.figure(figsize=(3,3)) \n",
    "# fig = plt.figure(figsize=(6,6)) \n",
    "ax = plt.axes(projection=ccrs.NorthPolarStereo()); \n",
    "ax.set_boundary(circle, transform=ax.transAxes)\n",
    "ax.set_extent([-180, 180, 50, 90], crs = ccrs.PlateCarree());\n",
    "\n",
    "# plot changes in the actual variable of interest on top\n",
    "pc = ax.pcolormesh(lon, lat, np.nanmean(diatNPP_2020,axis=0)/np.nanmean(diatNPP_2020 + spNPP_2020,axis=0),\n",
    "                   transform=ccrs.PlateCarree(), vmin = 0, vmax = 1,  #-60 60, -20 20\n",
    "                   cmap='cmo.matter', zorder = 1); #coolwarm, BrBG_r\n",
    "\n",
    "# add land on top and colorbar\n",
    "ax.coastlines();  ax.add_feature(cfeature.LAND, zorder = 1); #plt.colorbar(pc, orientation='horizontal', extend='both');\n",
    "# plt.colorbar(pc, orientation = 'horizontal', extend = 'max');\n",
    "\n",
    "# print this figure\n",
    "# figdir = '/glade/u/home/cpayne/Projects/BloomLength/Figures/Fig4c.png';\n",
    "# plt.savefig(figdir,facecolor='none', dpi = 600);\n",
    "# plt.close()"
   ]
  },
  {
   "cell_type": "markdown",
   "id": "916a0df8-164e-47a0-96a4-d7439b7c9cc3",
   "metadata": {},
   "source": [
    "13. Here, I include code I used to analyze differences between different regions (shelf and deep Arctic and sub-Arctic) in different environmental conditions (MLD, NO3, ice concentration). "
   ]
  },
  {
   "cell_type": "code",
   "execution_count": null,
   "id": "a83b5919-ba7e-469b-baaf-310a41f3d367",
   "metadata": {},
   "outputs": [],
   "source": [
    "# a. Read in array describing what region each grid cell corresponds to. Shelfmask numbers correspond to:\n",
    "# 1: the shelf (<1000m) of the sub-Arctic (50-66.5°N)\n",
    "# 2: the shelf (<1000m) of the Arctic (> 66.5°N)\n",
    "# 3: the basin (>1000m) of the sub-Arctic (50-66.5°N)\n",
    "# 4: the basin (>1000m) of the Arctic (> 66.5°N)\n",
    "\n",
    "dir = np.loadtxt(\"/glade/u/home/cpayne/Projects/PredictPerfect/Input/shelfmask.txt\")\n",
    "shelfmask = dir.reshape(384,320)"
   ]
  },
  {
   "cell_type": "code",
   "execution_count": null,
   "id": "78e23445-3139-4415-b2fd-d2be4c3e1ed5",
   "metadata": {},
   "outputs": [],
   "source": [
    "# Read in MLD data for each year\n",
    "var = 'HMXL'\n",
    "fdir = '/glade/campaign/cgd/cesm/CESM2-LE/ocn/proc/tseries/month_1/'+ var + '/'\n",
    "ens = -1\n",
    "mld_1970 = np.zeros([50,12,384,320])\n",
    "for file in glob.glob(fdir + \"*smbb*197001*\"): \n",
    "    ens += 1\n",
    "    ncfile = xr.open_dataset(file)\n",
    "    mld_1970[ens,:,:,:] = ncfile[var][0:12,:,:] #0:12 for 1970, 48:60 for 2020 and 2100\n",
    "ens = -1\n",
    "mld_2020 = np.zeros([50,12,384,320])\n",
    "for file in glob.glob(fdir + \"*smbb*201501*\"): \n",
    "    ens += 1\n",
    "    ncfile = xr.open_dataset(file)\n",
    "    mld_2020[ens,:,:,:] = ncfile[var][48:60,:,:] #0:12 for 1970, 48:60 for 2020 and 2100\n",
    "\n",
    "ens = -1\n",
    "mld_2100 = np.zeros([50,12,384,320])\n",
    "for file in glob.glob(fdir + \"*smbb*209501*\"): \n",
    "    ens += 1\n",
    "    ncfile = xr.open_dataset(file)\n",
    "    mld_2100[ens,:,:,:] = ncfile[var][48:60,:,:] #0:12 for 1970, 48:60 for 2020 and 2100"
   ]
  },
  {
   "cell_type": "code",
   "execution_count": null,
   "id": "fed46183-12ec-43c3-a344-3589c519aff1",
   "metadata": {},
   "outputs": [],
   "source": [
    "# Read in NO3 data for each year\n",
    "var = 'NO3'\n",
    "fdir = '/glade/campaign/cgd/cesm/CESM2-LE/ocn/proc/tseries/month_1/'+ var + '/'\n",
    "ens = -1\n",
    "no3_1970 = np.zeros([50,12,384,320])\n",
    "for file in glob.glob(fdir + \"*smbb*197001*\"): \n",
    "    ens += 1\n",
    "    ncfile = xr.open_dataset(file)\n",
    "    no3_1970[ens,:,:,:] = ncfile[var][0:12,0,:,:] #0:12 for 1970, 48:60 for 2020 and 2100\n",
    "ens = -1\n",
    "no3_2020 = np.zeros([50,12,384,320])\n",
    "for file in glob.glob(fdir + \"*smbb*201501*\"): \n",
    "    ens += 1\n",
    "    ncfile = xr.open_dataset(file)\n",
    "    no3_2020[ens,:,:,:] = ncfile[var][48:60,0,:,:] #0:12 for 1970, 48:60 for 2020 and 2100\n",
    "\n",
    "ens = -1\n",
    "no3_2100 = np.zeros([50,12,384,320])\n",
    "for file in glob.glob(fdir + \"*smbb*209501*\"): \n",
    "    ens += 1\n",
    "    ncfile = xr.open_dataset(file)\n",
    "    no3_2100[ens,:,:,:] = ncfile[var][48:60,0,:,:] #0:12 for 1970, 48:60 for 2020 and 2100"
   ]
  },
  {
   "cell_type": "code",
   "execution_count": null,
   "id": "d315857b-291a-4323-936e-10e8de5a4a3e",
   "metadata": {},
   "outputs": [],
   "source": [
    "# Read in sea ice concentration data for each year\n",
    "var = 'aice'\n",
    "fdir = '/glade/campaign/cgd/cesm/CESM2-LE/ice/proc/tseries/month_1/'+ var + '/'\n",
    "ens = -1\n",
    "aice_1970 = np.zeros([50,12,384,320])\n",
    "for file in glob.glob(fdir + \"*smbb*197001*\"): \n",
    "    ens += 1\n",
    "    ncfile = xr.open_dataset(file)\n",
    "    aice_1970[ens,:,:,:] = ncfile[var][0:12,:,:] #0:12 for 1970, 48:60 for 2020 and 2100\n",
    "ens = -1\n",
    "aice_2020 = np.zeros([50,12,384,320])\n",
    "for file in glob.glob(fdir + \"*smbb*201501*\"): \n",
    "    ens += 1\n",
    "    ncfile = xr.open_dataset(file)\n",
    "    aice_2020[ens,:,:,:] = ncfile[var][48:60,:,:] #0:12 for 1970, 48:60 for 2020 and 2100\n",
    "\n",
    "ens = -1\n",
    "aice_2100 = np.zeros([50,12,384,320])\n",
    "for file in glob.glob(fdir + \"*smbb*209501*\"): \n",
    "    ens += 1\n",
    "    ncfile = xr.open_dataset(file)\n",
    "    aice_2100[ens,:,:,:] = ncfile[var][48:60,:,:] #0:12 for 1970, 48:60 for 2020 and 2100"
   ]
  },
  {
   "cell_type": "code",
   "execution_count": null,
   "id": "fbb32743-5113-44e6-b151-262741fc9634",
   "metadata": {},
   "outputs": [],
   "source": [
    "# Look at differences in these conditions at individual grid cells\n",
    "\n",
    "# i = 322; j = 193; # Bering\n",
    "# i = 342; j = 194; # Chukchi\n",
    "# i = 341; j = 275; # Hudson\n",
    "i = 372; j = 176; # Central\n",
    "# i = 373; j = 40;  # Greenland"
   ]
  },
  {
   "cell_type": "code",
   "execution_count": null,
   "id": "7e366145-7611-4045-bab7-84800774d70f",
   "metadata": {},
   "outputs": [],
   "source": [
    "# Calculate proportion of total NPP generated by diatoms\n",
    "print(np.nanmean(diatNPP_1970[:,i,j]/(diatNPP_1970[:,i,j] + spNPP_1970[:,i,j])))\n",
    "print(np.nanmean(diatNPP_2020[:,i,j]/(diatNPP_2020[:,i,j] + spNPP_2020[:,i,j])))\n",
    "print(np.nanmean(diatNPP_2100[:,i,j]/(diatNPP_2100[:,i,j] + spNPP_2100[:,i,j])))"
   ]
  },
  {
   "cell_type": "code",
   "execution_count": null,
   "id": "926ccd2a-ccb8-44d5-bc39-bbc197bafe82",
   "metadata": {},
   "outputs": [],
   "source": [
    "# Look at differences in March MLD and NO3\n",
    "print(np.nanmean(no3_1970[:,2,i,j]),np.nanmean(no3_2020[:,2,i,j]),np.nanmean(no3_2100[:,2,i,j]))\n",
    "print(np.nanmean(mld_1970[:,2,i,j])/1e2,np.nanmean(mld_2020[:,2,i,j])/1e2,np.nanmean(mld_2100[:,2,i,j])/1e2)"
   ]
  },
  {
   "cell_type": "code",
   "execution_count": null,
   "id": "6c211369-1588-4258-a767-ec15857b21be",
   "metadata": {},
   "outputs": [],
   "source": [
    "# Calculate differences in MLD conditions for each region\n",
    "lim_1970_shel = np.zeros([4,50,12]);lim_2020_shel = np.zeros([4,50,12]);lim_2100_shel = np.zeros([4,50,12])\n",
    "for shel in np.arange(0,4):\n",
    "    shelarea = 0\n",
    "    for i in np.arange(0,384):\n",
    "        for j in np.arange(0,320):\n",
    "            if shelfmask[i,j] == shel + 1 and np.isnan(areacello_ocn[i,j]) == False:\n",
    "                lim_1970_shel[shel,:,:] = mld_1970[:,:, i, j]/1e2*areacello_ocn[i,j] + lim_1970_shel[shel,:,:]\n",
    "                lim_2020_shel[shel,:,:] = mld_2020[:,:, i, j]/1e2*areacello_ocn[i,j] + lim_2020_shel[shel,:,:]\n",
    "                lim_2100_shel[shel,:,:] = mld_2100[:,:, i, j]/1e2*areacello_ocn[i,j] + lim_2100_shel[shel,:,:]\n",
    "                shelarea = shelarea + areacello_ocn[i,j]\n",
    "    lim_1970_shel[shel,:,:] = lim_1970_shel[shel,:,:]/shelarea\n",
    "    lim_2020_shel[shel,:,:] = lim_2020_shel[shel,:,:]/shelarea\n",
    "    lim_2100_shel[shel,:,:] = lim_2100_shel[shel,:,:]/shelarea\n"
   ]
  },
  {
   "cell_type": "code",
   "execution_count": null,
   "id": "e287e7cf-a6be-4f9e-86f1-820ec31e7dee",
   "metadata": {},
   "outputs": [],
   "source": [
    "# Compute MLD means for each year for the region > 50°N\n",
    "mld_1970_arc = np.zeros([50,12]); mld_2020_arc = np.zeros([50,12]); mld_2100_arc = np.zeros([50,12]);\n",
    "for ens in np.arange(0,50):\n",
    "    for m in np.arange(0,12):\n",
    "        mld_1970_arc[ens,m] = np.nansum(no3_1970[ens,m,:,:] * areacello_ocn)/np.nansum(areacello_ocn)#/1e2\n",
    "        mld_2020_arc[ens,m] = np.nansum(no3_2020[ens,m,:,:] * areacello_ocn)/np.nansum(areacello_ocn)#/1e2\n",
    "        mld_2100_arc[ens,m] = np.nansum(no3_2100[ens,m,:,:] * areacello_ocn)/np.nansum(areacello_ocn)#/1e2"
   ]
  },
  {
   "cell_type": "code",
   "execution_count": null,
   "id": "1cd5c99b-22c2-46b3-9b1b-6a28b8e5318b",
   "metadata": {},
   "outputs": [],
   "source": []
  }
 ],
 "metadata": {
  "kernelspec": {
   "display_name": "NPL 2025a",
   "language": "python",
   "name": "npl-2025a"
  },
  "language_info": {
   "codemirror_mode": {
    "name": "ipython",
    "version": 3
   },
   "file_extension": ".py",
   "mimetype": "text/x-python",
   "name": "python",
   "nbconvert_exporter": "python",
   "pygments_lexer": "ipython3",
   "version": "3.12.8"
  }
 },
 "nbformat": 4,
 "nbformat_minor": 5
}
