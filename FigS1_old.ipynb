{
 "cells": [
  {
   "cell_type": "markdown",
   "id": "72eff654-009d-41ca-b79d-cd8557202e7d",
   "metadata": {},
   "source": [
    "This script is used to produce Figure S1 (trends and change in mean bloom start, end, and length between 1970 and 2100) for the Payne et al. paper \"XXX\". "
   ]
  },
  {
   "cell_type": "markdown",
   "id": "c3dabf6d-442e-4759-ab37-e7ac8ca991e9",
   "metadata": {},
   "source": [
    "1. Import Packages"
   ]
  },
  {
   "cell_type": "code",
   "execution_count": 3,
   "id": "32b91305-b384-473d-9bbd-9ea5d56348dc",
   "metadata": {},
   "outputs": [],
   "source": [
    "import numpy as np\n",
    "import numpy.ma as ma\n",
    "import xarray as xr\n",
    "import glob\n",
    "import matplotlib.pyplot as plt\n",
    "import matplotlib.path as mpath\n",
    "import cmocean\n",
    "import cartopy.crs as ccrs\n",
    "import cartopy.feature as cfeature\n",
    "from scipy import stats\n",
    "import math\n",
    "import matplotlib.path as mpath\n",
    "import xesmf as xe"
   ]
  },
  {
   "cell_type": "markdown",
   "id": "03f63a0d-bfba-4d2e-9828-9321b1041c91",
   "metadata": {},
   "source": [
    "2. Read in a randomly chosen NPP file. This is used to generate latitude (lat) and longitude (lon) fields for CESM files."
   ]
  },
  {
   "cell_type": "code",
   "execution_count": 4,
   "id": "28dc2c00-b7a8-401d-aef2-7d8a94fabd6e",
   "metadata": {},
   "outputs": [],
   "source": [
    "# Select a file\n",
    "vdir = 'ocn'\n",
    "vnam = 'photoC_diat_zint_2'\n",
    "fdir = '/glade/campaign/cgd/cesm/CESM2-LE/'+ vdir + '/proc/tseries/day_1/' + vnam + '/'\n",
    "fnam = 'b.e21.BSSP370cmip6.f09_g17.LE2-1301.003.pop.h.ecosys.nday1.photoC_diat_zint_2.20450102-20550101.nc'\n",
    "\n",
    "ncfile = xr.open_dataset(fdir + fnam)\n",
    "lon = ncfile.TLONG.values\n",
    "lat = ncfile.TLAT.values\n",
    "\n",
    "# Interpolate lat and lon values over holes in the arrays\n",
    "ok = ~np.isnan(lon)\n",
    "xp = ok.ravel().nonzero()[0]\n",
    "fp = lon[~np.isnan(lon)]\n",
    "x  = np.isnan(lon).ravel().nonzero()[0]\n",
    "lon[np.isnan(lon)] = np.interp(x, xp, fp)\n",
    "\n",
    "ok = ~np.isnan(lat)\n",
    "xp = ok.ravel().nonzero()[0]\n",
    "fp = lat[~np.isnan(lat)]\n",
    "x  = np.isnan(lat).ravel().nonzero()[0]\n",
    "lat[np.isnan(lat)] = np.interp(x, xp, fp)\n"
   ]
  },
  {
   "cell_type": "markdown",
   "id": "28012004-e1ea-4ec4-8798-9eacd55905c6",
   "metadata": {},
   "source": [
    "3. Read in bloom start (max_25) and end (max_25_2) files. These files were created for each year and across all ensemble members using the \"BloomMetrics\" script. Bloom start occurs on the date when biomass first surpasses 25% of the maximum biomass at any given grid cell, and end occurs on the date when biomass first diminishes below 25% of the maximum following the peak in biomass. Afterwards, I set all bloom start and end values to 'nan' if they are equal to zero."
   ]
  },
  {
   "cell_type": "code",
   "execution_count": 5,
   "id": "4a06bef3-0373-432f-8a7a-92d258adfa56",
   "metadata": {},
   "outputs": [],
   "source": [
    "max_25 = np.zeros([14,384,320,50]); max_25_2 = np.zeros([14,384,320,50]); \n",
    "for yrset in np.arange(0,14):\n",
    "    yrnum = str(1970 + yrset*10)\n",
    "    dir = np.loadtxt(\"/glade/u/home/cpayne/CESM2LE/AnnualGC/\" + yrnum + \"_max_25.txt\")\n",
    "    max_25[yrset,:,:,:] = dir.reshape(384,320,50)\n",
    "    dir = np.loadtxt(\"/glade/u/home/cpayne/CESM2LE/AnnualGC/\" + yrnum + \"_max_25_2.txt\")\n",
    "    max_25_2[yrset,:,:,:] = dir.reshape(384,320,50)\n",
    "\n",
    "max_25 = np.where(max_25==0, np.nan, max_25)\n",
    "max_25_2 = np.where(max_25_2==0, np.nan, max_25_2)"
   ]
  },
  {
   "cell_type": "markdown",
   "id": "67a6aed1-28b6-411f-9a16-2a8ee22d1055",
   "metadata": {},
   "source": [
    "5. Choose "
   ]
  },
  {
   "cell_type": "code",
   "execution_count": 6,
   "id": "f1ae171e-8817-41ed-b5fe-901d04765a64",
   "metadata": {},
   "outputs": [],
   "source": [
    "yr2 = 13\n",
    "vari = max_25_2[0,:,:,:]-max_25[0,:,:,:]\n",
    "vari2 = max_25_2[yr2,:,:,:]-max_25[yr2,:,:,:]"
   ]
  },
  {
   "cell_type": "code",
   "execution_count": null,
   "id": "a84af653-105c-4d8b-b293-c9afb4fbc32f",
   "metadata": {},
   "outputs": [],
   "source": [
    "valslp = np.full([384,320], np.nan); \n",
    "mnslp = np.full([384,320],np.nan);\n",
    "import math\n",
    "for i in np.arange(0,384):\n",
    "    for j in np.arange(0,320):\n",
    "        if np.isnan(max_25_2[0,i,j,0]) == False:\n",
    "            ens_slp = np.zeros([50])\n",
    "            lr = stats.linregress(np.arange(1970,2101,10),np.mean(max_25_2[:,i,j,:]-max_25[:,i,j,:],axis=1))\n",
    "            #if lr.pvalue < 0.05:\n",
    "            mnslp[i,j] = lr.slope\n",
    "            for ens in np.arange(0,50):\n",
    "                lr = stats.linregress(np.arange(1970,2101,10),max_25_2[:,i,j,ens]-max_25[:,i,j,ens])\n",
    "                ens_slp[ens] = lr.slope\n",
    "            ratio = abs(mnslp[i,j])/np.std(ens_slp)\n",
    "            if ratio >= 2 /(math.sqrt(49)):\n",
    "                valslp[i,j] = mnslp[i,j]\n"
   ]
  },
  {
   "cell_type": "code",
   "execution_count": null,
   "id": "34a98a65-9226-4962-9558-72b6eaaca200",
   "metadata": {},
   "outputs": [],
   "source": [
    "# make circular boundary for polar stereographic circular plots\n",
    "theta = np.linspace(0, 2*np.pi, 100)\n",
    "center, radius = [0.5, 0.5], 0.5\n",
    "verts = np.vstack([np.sin(theta), np.cos(theta)]).T\n",
    "circle = mpath.Path(verts * radius + center)\n",
    "\n",
    "#fig = plt.figure(figsize=(3,3)) \n",
    "fig = plt.figure(figsize=(6,6)) \n",
    "ax = plt.axes(projection=ccrs.NorthPolarStereo()); \n",
    "ax.set_boundary(circle, transform=ax.transAxes)\n",
    "ax.set_extent([-180, 180, 50, 90], crs = ccrs.PlateCarree());\n",
    "pc = ax.pcolormesh(lon, lat, np.mean(vari2,axis=2)/130 - np.mean(vari,axis=2)/130, \n",
    "                   transform=ccrs.PlateCarree(), vmin = -1, vmax = 1, cmap='cmo.balance');\n",
    "ax.coastlines();  ax.add_feature(cfeature.LAND); \n",
    "plt.colorbar(pc, orientation='horizontal', extend='both');\n",
    "figdir = '/glade/u/home/cpayne/CESM2LE/Figures/FigS1cbar.png';\n",
    "plt.savefig(figdir,facecolor='none', dpi = 600);\n",
    "plt.close()"
   ]
  },
  {
   "cell_type": "code",
   "execution_count": 44,
   "id": "4d69a792-6e95-46c9-a203-29e8ec64289d",
   "metadata": {},
   "outputs": [],
   "source": [
    "# make circular boundary for polar stereographic circular plots\n",
    "theta = np.linspace(0, 2*np.pi, 100)\n",
    "center, radius = [0.5, 0.5], 0.5\n",
    "verts = np.vstack([np.sin(theta), np.cos(theta)]).T\n",
    "circle = mpath.Path(verts * radius + center)\n",
    "\n",
    "fig = plt.figure(figsize=(3,3)) \n",
    "# fig = plt.figure(figsize=(6,6)) \n",
    "ax = plt.axes(projection=ccrs.NorthPolarStereo()); \n",
    "ax.set_boundary(circle, transform=ax.transAxes)\n",
    "ax.set_extent([-180, 180, 50, 90], crs = ccrs.PlateCarree());\n",
    "pc = ax.pcolormesh(lon, lat, valslp, \n",
    "                   transform=ccrs.PlateCarree(), vmin = -1, vmax = 1, cmap='cmo.balance');\n",
    "ax.coastlines();  ax.add_feature(cfeature.LAND); #plt.colorbar(pc, orientation='horizontal', extend='both');\n",
    "figdir = '/glade/u/home/cpayne/CESM2LE/Figures/FigS1f.png';\n",
    "plt.savefig(figdir,facecolor='none', dpi = 600);\n",
    "plt.close()"
   ]
  },
  {
   "cell_type": "code",
   "execution_count": null,
   "id": "d0c83632-cd3d-4a23-8ea8-e9bc18d0cb4c",
   "metadata": {},
   "outputs": [],
   "source": []
  }
 ],
 "metadata": {
  "kernelspec": {
   "display_name": "NPL 2024a",
   "language": "python",
   "name": "npl-2024a"
  },
  "language_info": {
   "codemirror_mode": {
    "name": "ipython",
    "version": 3
   },
   "file_extension": ".py",
   "mimetype": "text/x-python",
   "name": "python",
   "nbconvert_exporter": "python",
   "pygments_lexer": "ipython3",
   "version": "3.11.6"
  }
 },
 "nbformat": 4,
 "nbformat_minor": 5
}
